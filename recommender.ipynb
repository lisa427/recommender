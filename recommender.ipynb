{
 "cells": [
  {
   "cell_type": "code",
   "execution_count": 1,
   "metadata": {},
   "outputs": [],
   "source": [
    "import pandas as pd\n",
    "from sklearn.feature_extraction.text import TfidfVectorizer\n",
    "from sklearn.metrics.pairwise import cosine_similarity\n",
    "from sklearn.metrics.pairwise import linear_kernel\n"
   ]
  },
  {
   "cell_type": "code",
   "execution_count": 3,
   "metadata": {},
   "outputs": [],
   "source": [
    "# read csv file\n",
    "\n",
    "df = pd.read_csv(\"data/final_cleaned.csv\")"
   ]
  },
  {
   "cell_type": "code",
   "execution_count": 4,
   "metadata": {},
   "outputs": [
    {
     "data": {
      "text/html": [
       "<div>\n",
       "<style scoped>\n",
       "    .dataframe tbody tr th:only-of-type {\n",
       "        vertical-align: middle;\n",
       "    }\n",
       "\n",
       "    .dataframe tbody tr th {\n",
       "        vertical-align: top;\n",
       "    }\n",
       "\n",
       "    .dataframe thead th {\n",
       "        text-align: right;\n",
       "    }\n",
       "</style>\n",
       "<table border=\"1\" class=\"dataframe\">\n",
       "  <thead>\n",
       "    <tr style=\"text-align: right;\">\n",
       "      <th></th>\n",
       "      <th>Unnamed: 0</th>\n",
       "      <th>title</th>\n",
       "      <th>authors</th>\n",
       "      <th>isbn</th>\n",
       "      <th>publisher</th>\n",
       "      <th>categories</th>\n",
       "      <th>thumbnail</th>\n",
       "    </tr>\n",
       "  </thead>\n",
       "  <tbody>\n",
       "    <tr>\n",
       "      <th>0</th>\n",
       "      <td>0</td>\n",
       "      <td>Harry Potter and the Half-Blood Prince (Harry ...</td>\n",
       "      <td>J.K. Rowling/Mary GrandPré</td>\n",
       "      <td>0439785960</td>\n",
       "      <td>Scholastic Inc.</td>\n",
       "      <td>Juvenile Fiction</td>\n",
       "      <td>http://books.google.com/books/content?id=QzI0B...</td>\n",
       "    </tr>\n",
       "    <tr>\n",
       "      <th>1</th>\n",
       "      <td>1</td>\n",
       "      <td>Harry Potter and the Order of the Phoenix (Har...</td>\n",
       "      <td>J.K. Rowling/Mary GrandPré</td>\n",
       "      <td>0439358078</td>\n",
       "      <td>Scholastic Inc.</td>\n",
       "      <td>Juvenile Fiction</td>\n",
       "      <td>http://books.google.com/books/content?id=OIJ5B...</td>\n",
       "    </tr>\n",
       "    <tr>\n",
       "      <th>2</th>\n",
       "      <td>2</td>\n",
       "      <td>Harry Potter and the Chamber of Secrets (Harry...</td>\n",
       "      <td>J.K. Rowling</td>\n",
       "      <td>0439554896</td>\n",
       "      <td>Scholastic</td>\n",
       "      <td>Juvenile Fiction</td>\n",
       "      <td>http://books.google.com/books/content?id=h2Y-P...</td>\n",
       "    </tr>\n",
       "    <tr>\n",
       "      <th>3</th>\n",
       "      <td>3</td>\n",
       "      <td>Harry Potter and the Prisoner of Azkaban (Harr...</td>\n",
       "      <td>J.K. Rowling/Mary GrandPré</td>\n",
       "      <td>043965548X</td>\n",
       "      <td>Scholastic Inc.</td>\n",
       "      <td>Juvenile Fiction</td>\n",
       "      <td>http://books.google.com/books/content?id=IZN5B...</td>\n",
       "    </tr>\n",
       "    <tr>\n",
       "      <th>4</th>\n",
       "      <td>4</td>\n",
       "      <td>Harry Potter Boxed Set  Books 1-5 (Harry Potte...</td>\n",
       "      <td>J.K. Rowling/Mary GrandPré</td>\n",
       "      <td>0439682584</td>\n",
       "      <td>Scholastic</td>\n",
       "      <td>Juvenile Fiction</td>\n",
       "      <td>http://books.google.com/books/content?id=DAAAA...</td>\n",
       "    </tr>\n",
       "  </tbody>\n",
       "</table>\n",
       "</div>"
      ],
      "text/plain": [
       "   Unnamed: 0                                              title  \\\n",
       "0           0  Harry Potter and the Half-Blood Prince (Harry ...   \n",
       "1           1  Harry Potter and the Order of the Phoenix (Har...   \n",
       "2           2  Harry Potter and the Chamber of Secrets (Harry...   \n",
       "3           3  Harry Potter and the Prisoner of Azkaban (Harr...   \n",
       "4           4  Harry Potter Boxed Set  Books 1-5 (Harry Potte...   \n",
       "\n",
       "                      authors        isbn        publisher        categories  \\\n",
       "0  J.K. Rowling/Mary GrandPré  0439785960  Scholastic Inc.  Juvenile Fiction   \n",
       "1  J.K. Rowling/Mary GrandPré  0439358078  Scholastic Inc.  Juvenile Fiction   \n",
       "2                J.K. Rowling  0439554896       Scholastic  Juvenile Fiction   \n",
       "3  J.K. Rowling/Mary GrandPré  043965548X  Scholastic Inc.  Juvenile Fiction   \n",
       "4  J.K. Rowling/Mary GrandPré  0439682584       Scholastic  Juvenile Fiction   \n",
       "\n",
       "                                           thumbnail  \n",
       "0  http://books.google.com/books/content?id=QzI0B...  \n",
       "1  http://books.google.com/books/content?id=OIJ5B...  \n",
       "2  http://books.google.com/books/content?id=h2Y-P...  \n",
       "3  http://books.google.com/books/content?id=IZN5B...  \n",
       "4  http://books.google.com/books/content?id=DAAAA...  "
      ]
     },
     "execution_count": 4,
     "metadata": {},
     "output_type": "execute_result"
    }
   ],
   "source": [
    "# display dataframe\n",
    "\n",
    "df.head()"
   ]
  },
  {
   "cell_type": "code",
   "execution_count": 5,
   "metadata": {},
   "outputs": [],
   "source": [
    "# combine title, authors, & publisher columns into one\n",
    "\n",
    "df['all'] = df['title'] + df['authors'] + df['publisher'] + df['categories']"
   ]
  },
  {
   "cell_type": "code",
   "execution_count": 6,
   "metadata": {},
   "outputs": [],
   "source": [
    "# set vectorizer as TFIDvectorizer from sklearn\n",
    "# this will convert our collection of title/author/publisher documents into a matrix of features using the TF-IDF formula\n",
    "# set to analyze words \n",
    "\n",
    "vectorizer = TfidfVectorizer(analyzer='word')"
   ]
  },
  {
   "cell_type": "code",
   "execution_count": 7,
   "metadata": {},
   "outputs": [],
   "source": [
    "# fits & transforms using the column of title/author/publisher and the TFIDvectorizer\n",
    "# returns a matrix of the documents & TF-IDF calculations\n",
    "\n",
    "tfidf_all_content = vectorizer.fit_transform(df['all'])"
   ]
  },
  {
   "cell_type": "code",
   "execution_count": 8,
   "metadata": {},
   "outputs": [
    {
     "data": {
      "text/plain": [
       "<5290x18488 sparse matrix of type '<class 'numpy.float64'>'\n",
       "\twith 52031 stored elements in Compressed Sparse Row format>"
      ]
     },
     "execution_count": 8,
     "metadata": {},
     "output_type": "execute_result"
    }
   ],
   "source": [
    "tfidf_all_content"
   ]
  },
  {
   "cell_type": "code",
   "execution_count": 9,
   "metadata": {},
   "outputs": [],
   "source": [
    "# comping cosine similarity matrix using linear_kernal of sklearn\n",
    "\n",
    "cosine_similarity_all_content = linear_kernel(tfidf_all_content, tfidf_all_content)"
   ]
  },
  {
   "cell_type": "code",
   "execution_count": 10,
   "metadata": {},
   "outputs": [],
   "source": [
    "# create new dataframe with reset index\n",
    "\n",
    "books = df.reset_index(drop=True)"
   ]
  },
  {
   "cell_type": "code",
   "execution_count": 11,
   "metadata": {},
   "outputs": [],
   "source": [
    "# create a series of the indexes\n",
    "\n",
    "indices = pd.Series(books['title'].index)"
   ]
  },
  {
   "cell_type": "code",
   "execution_count": 12,
   "metadata": {},
   "outputs": [],
   "source": [
    "# Function to get the most similar books\n",
    "def recommend(index, method):\n",
    "    id = indices[index]\n",
    "    similarity_scores = list(enumerate(method[id]))\n",
    "    similarity_scores = sorted(similarity_scores, key=lambda x: x[1], reverse=True)\n",
    "    similarity_scores = similarity_scores[1:11]\n",
    "    \n",
    "    #Get the books index\n",
    "    books_index = [i[0] for i in similarity_scores]\n",
    "    \n",
    "    #Return the top 10 most similar books\n",
    "    return books['title'].iloc[books_index]"
   ]
  },
  {
   "cell_type": "code",
   "execution_count": 29,
   "metadata": {},
   "outputs": [
    {
     "data": {
      "text/plain": [
       "3037                                          Nine Horses\n",
       "3121                                            The March\n",
       "2482    The Nightmare Room: The Nightmare Begins! (The...\n",
       "2428                                  A Room of One's Own\n",
       "3380                                    The Lost Painting\n",
       "1509     Where I'm Calling From: New and Selected Stories\n",
       "955                                     Paris to the Moon\n",
       "4833                                         Theodore Rex\n",
       "2574              Color: A Natural History of the Palette\n",
       "472                  1968: The Year That Rocked the World\n",
       "Name: title, dtype: object"
      ]
     },
     "execution_count": 29,
     "metadata": {},
     "output_type": "execute_result"
    }
   ],
   "source": [
    "# pass the book index & the cosine similiarities\n",
    "\n",
    "recommend(127, cosine_similarity_all_content)"
   ]
  },
  {
   "cell_type": "code",
   "execution_count": 30,
   "metadata": {},
   "outputs": [
    {
     "name": "stdout",
     "output_type": "stream",
     "text": [
      "Sailing Alone Around the Room: New and Selected Poems\n"
     ]
    }
   ],
   "source": [
    "# print the title of the book passed to the recommender\n",
    "\n",
    "print(books['title'].iloc[127])"
   ]
  },
  {
   "cell_type": "code",
   "execution_count": null,
   "metadata": {},
   "outputs": [],
   "source": []
  }
 ],
 "metadata": {
  "kernelspec": {
   "display_name": "Python [conda env:PythonData]",
   "language": "python",
   "name": "conda-env-PythonData-py"
  },
  "language_info": {
   "codemirror_mode": {
    "name": "ipython",
    "version": 3
   },
   "file_extension": ".py",
   "mimetype": "text/x-python",
   "name": "python",
   "nbconvert_exporter": "python",
   "pygments_lexer": "ipython3",
   "version": "3.6.10"
  }
 },
 "nbformat": 4,
 "nbformat_minor": 4
}
